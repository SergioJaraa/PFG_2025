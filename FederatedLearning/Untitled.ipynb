{
 "cells": [
  {
   "cell_type": "code",
   "execution_count": 11,
   "id": "9e0cce08-ed8a-4678-97c8-8d196082b9fc",
   "metadata": {},
   "outputs": [
    {
     "name": "stdout",
     "output_type": "stream",
     "text": [
      "\n",
      "✅ FL_Models/federated_model.pth loaded:\n",
      "   Keys: ['conv1.weight', 'conv1.bias', 'bn3.weight', 'bn3.bias', 'bn3.running_mean'] ... Total: 17\n",
      "\n",
      "✅ FL_Models/federated_model2.pth loaded:\n",
      "   Keys: ['conv1.weight', 'conv1.bias', 'bn3.weight', 'bn3.bias', 'bn3.running_mean'] ... Total: 17\n",
      "\n",
      "✅ FL_Models/federated_model3.pth loaded:\n",
      "   Keys: ['conv1.weight', 'conv1.bias', 'bn3.weight', 'bn3.bias', 'bn3.running_mean'] ... Total: 17\n"
     ]
    },
    {
     "name": "stderr",
     "output_type": "stream",
     "text": [
      "C:\\Users\\Usuario\\AppData\\Local\\Temp\\ipykernel_24076\\1885524666.py:11: FutureWarning: You are using `torch.load` with `weights_only=False` (the current default value), which uses the default pickle module implicitly. It is possible to construct malicious pickle data which will execute arbitrary code during unpickling (See https://github.com/pytorch/pytorch/blob/main/SECURITY.md#untrusted-models for more details). In a future release, the default value for `weights_only` will be flipped to `True`. This limits the functions that could be executed during unpickling. Arbitrary objects will no longer be allowed to be loaded via this mode unless they are explicitly allowlisted by the user via `torch.serialization.add_safe_globals`. We recommend you start setting `weights_only=True` for any use case where you don't have full control of the loaded file. Please open an issue on GitHub for any issues related to this experimental feature.\n",
      "  state = torch.load(path, map_location='cpu')\n"
     ]
    }
   ],
   "source": [
    "import torch\n",
    "\n",
    "paths = [\n",
    "    \"FL_Models/federated_model.pth\",\n",
    "    \"FL_Models/federated_model2.pth\",\n",
    "    \"FL_Models/federated_model3.pth\"\n",
    "]\n",
    "\n",
    "for path in paths:\n",
    "    try:\n",
    "        state = torch.load(path, map_location='cpu')\n",
    "        if isinstance(state, dict) and \"state_dict\" in state:\n",
    "            state = state[\"state_dict\"]\n",
    "        print(f\"\\n✅ {path} loaded:\")\n",
    "        print(f\"   Keys: {list(state.keys())[:5]} ... Total: {len(state.keys())}\")\n",
    "    except Exception as e:\n",
    "        print(f\"\\n❌ Error loading {path}: {e}\")\n"
   ]
  },
  {
   "cell_type": "code",
   "execution_count": 24,
   "id": "b667094f-e9bc-45bf-b3eb-c6df80f75975",
   "metadata": {},
   "outputs": [
    {
     "name": "stderr",
     "output_type": "stream",
     "text": [
      "C:\\Users\\Usuario\\AppData\\Local\\Temp\\ipykernel_24076\\390845853.py:18: FutureWarning: You are using `torch.load` with `weights_only=False` (the current default value), which uses the default pickle module implicitly. It is possible to construct malicious pickle data which will execute arbitrary code during unpickling (See https://github.com/pytorch/pytorch/blob/main/SECURITY.md#untrusted-models for more details). In a future release, the default value for `weights_only` will be flipped to `True`. This limits the functions that could be executed during unpickling. Arbitrary objects will no longer be allowed to be loaded via this mode unless they are explicitly allowlisted by the user via `torch.serialization.add_safe_globals`. We recommend you start setting `weights_only=True` for any use case where you don't have full control of the loaded file. Please open an issue on GitHub for any issues related to this experimental feature.\n",
      "  model.load_state_dict(torch.load(MODEL_PATH, map_location=DEVICE))\n"
     ]
    },
    {
     "name": "stdout",
     "output_type": "stream",
     "text": [
      "\n",
      "🧪 Resultados de evaluación:\n",
      "   - Accuracy: 95.39%\n",
      "   - AVG Loss: 0.2238\n",
      "\n",
      "📊 Classification Report:\n",
      "              precision    recall  f1-score   support\n",
      "\n",
      "      glioma       0.98      0.94      0.96       310\n",
      "  meningioma       0.91      0.90      0.90       306\n",
      "     notumor       0.96      0.99      0.97       465\n",
      "   pituitary       0.96      0.98      0.97       330\n",
      "\n",
      "    accuracy                           0.95      1411\n",
      "   macro avg       0.95      0.95      0.95      1411\n",
      "weighted avg       0.95      0.95      0.95      1411\n",
      "\n"
     ]
    }
   ],
   "source": [
    "import torch\n",
    "import torch.nn as nn\n",
    "from torchvision import datasets, transforms\n",
    "from torch.utils.data import DataLoader\n",
    "from sklearn.metrics import classification_report\n",
    "import numpy as np\n",
    "from model import Net  # Asegúrate de que el modelo corregido esté aquí\n",
    "\n",
    "# ----------- CONFIGURACIÓN -------------\n",
    "MODEL_PATH = \"federated_m3.pth\"\n",
    "TEST_DATA_PATH = \"../Data/Testing\"\n",
    "BATCH_SIZE = 32\n",
    "IMAGE_SIZE = (64, 64)  # Debe coincidir con lo usado en entrenamiento\n",
    "DEVICE = torch.device(\"cuda\" if torch.cuda.is_available() else \"cpu\")\n",
    "\n",
    "# ----------- CARGA DEL MODELO -------------\n",
    "model = Net(num_classes=4)\n",
    "model.load_state_dict(torch.load(MODEL_PATH, map_location=DEVICE))\n",
    "model.to(DEVICE)\n",
    "model.eval()\n",
    "\n",
    "# ----------- TRANSFORMACIONES -------------\n",
    "transform = transforms.Compose([\n",
    "    transforms.Resize(IMAGE_SIZE),\n",
    "    transforms.Grayscale(num_output_channels=1),\n",
    "    transforms.ToTensor(),\n",
    "    transforms.Normalize((0.5,), (0.5,))\n",
    "])\n",
    "\n",
    "# ----------- CARGA DE DATOS DE PRUEBA -------------\n",
    "test_dataset = datasets.ImageFolder(root=TEST_DATA_PATH, transform=transform)\n",
    "test_loader = DataLoader(test_dataset, batch_size=BATCH_SIZE, shuffle=False)\n",
    "\n",
    "# ----------- EVALUACIÓN -------------\n",
    "criterion = nn.CrossEntropyLoss()\n",
    "total_loss = 0\n",
    "correct = 0\n",
    "total = 0\n",
    "all_preds = []\n",
    "all_labels = []\n",
    "\n",
    "with torch.no_grad():\n",
    "    for images, labels in test_loader:\n",
    "        images, labels = images.to(DEVICE), labels.to(DEVICE)\n",
    "        outputs = model(images)\n",
    "        loss = criterion(outputs, labels)\n",
    "        total_loss += loss.item()\n",
    "\n",
    "        _, predicted = torch.max(outputs, 1)\n",
    "        correct += (predicted == labels).sum().item()\n",
    "        total += labels.size(0)\n",
    "\n",
    "        all_preds.extend(predicted.cpu().numpy())\n",
    "        all_labels.extend(labels.cpu().numpy())\n",
    "\n",
    "# ----------- RESULTADOS -------------\n",
    "accuracy = 100 * correct / total\n",
    "avg_loss = total_loss / len(test_loader)\n",
    "\n",
    "print(\"\\n🧪 Resultados de evaluación:\")\n",
    "print(f\"   - Accuracy: {accuracy:.2f}%\")\n",
    "print(f\"   - AVG Loss: {avg_loss:.4f}\")\n",
    "print(\"\\n📊 Classification Report:\")\n",
    "print(classification_report(all_labels, all_preds, target_names=test_dataset.classes))\n"
   ]
  },
  {
   "cell_type": "code",
   "execution_count": null,
   "id": "65c9a214-b461-4a1f-8081-816cd89fa826",
   "metadata": {},
   "outputs": [],
   "source": []
  }
 ],
 "metadata": {
  "kernelspec": {
   "display_name": "Python [conda env:base] *",
   "language": "python",
   "name": "conda-base-py"
  },
  "language_info": {
   "codemirror_mode": {
    "name": "ipython",
    "version": 3
   },
   "file_extension": ".py",
   "mimetype": "text/x-python",
   "name": "python",
   "nbconvert_exporter": "python",
   "pygments_lexer": "ipython3",
   "version": "3.12.7"
  }
 },
 "nbformat": 4,
 "nbformat_minor": 5
}
