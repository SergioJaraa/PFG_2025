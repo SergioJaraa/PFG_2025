{
 "cells": [
  {
   "cell_type": "code",
   "execution_count": 4,
   "id": "65a1f371-9379-41e6-bdec-e4b200e2a2d9",
   "metadata": {},
   "outputs": [
    {
     "name": "stdout",
     "output_type": "stream",
     "text": [
      "✅ Dataset successfully split among 3 clients in './Data/Federated'\n"
     ]
    }
   ],
   "source": [
    "import os\n",
    "import shutil\n",
    "import random\n",
    "from pathlib import Path\n",
    "\n",
    "# Paths\n",
    "original_data_dir = \"../Data/Training\"          # Your original dataset path\n",
    "output_base_dir = \"./Data/Federated\"           # Where to save client folders\n",
    "client_names = [\"client1\", \"client2\", \"client3\"]\n",
    "\n",
    "# Filter only class folders (ignore .DS_Store and other files)\n",
    "classes = [cls for cls in os.listdir(original_data_dir) if os.path.isdir(os.path.join(original_data_dir, cls))]\n",
    "\n",
    "# Create folders for each client and class\n",
    "for client in client_names:\n",
    "    for cls in classes:\n",
    "        Path(os.path.join(output_base_dir, client, cls)).mkdir(parents=True, exist_ok=True)\n",
    "\n",
    "# Shuffle and split each class across the 3 clients\n",
    "for cls in classes:\n",
    "    class_path = os.path.join(original_data_dir, cls)\n",
    "    images = [f for f in os.listdir(class_path) if f.lower().endswith(('.jpg', '.jpeg', '.png'))]\n",
    "    random.shuffle(images)\n",
    "\n",
    "    split = len(images) // len(client_names)\n",
    "    \n",
    "    for i, client in enumerate(client_names):\n",
    "        start = i * split\n",
    "        end = (i + 1) * split if i < len(client_names) - 1 else len(images)\n",
    "        for img_name in images[start:end]:\n",
    "            src = os.path.join(class_path, img_name)\n",
    "            dst = os.path.join(output_base_dir, client, cls, img_name)\n",
    "            shutil.copy2(src, dst)\n",
    "\n",
    "print(\"✅ Dataset successfully split among 3 clients in './Data/Federated'\")\n"
   ]
  },
  {
   "cell_type": "code",
   "execution_count": null,
   "id": "57abf5e7-44cb-4f93-b01f-0d65273980a5",
   "metadata": {},
   "outputs": [],
   "source": []
  }
 ],
 "metadata": {
  "kernelspec": {
   "display_name": "Python 3 (ipykernel)",
   "language": "python",
   "name": "python3"
  },
  "language_info": {
   "codemirror_mode": {
    "name": "ipython",
    "version": 3
   },
   "file_extension": ".py",
   "mimetype": "text/x-python",
   "name": "python",
   "nbconvert_exporter": "python",
   "pygments_lexer": "ipython3",
   "version": "3.12.7"
  }
 },
 "nbformat": 4,
 "nbformat_minor": 5
}
